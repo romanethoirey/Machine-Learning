{
 "cells": [
  {
   "cell_type": "markdown",
   "metadata": {},
   "source": [
    "# Import des librairies"
   ]
  },
  {
   "cell_type": "code",
   "execution_count": 1,
   "metadata": {},
   "outputs": [],
   "source": [
    "import pandas as pd\n",
    "import numpy as np\n",
    "import matplotlib.pyplot as plt\n",
    "from sklearn.linear_model import LinearRegression\n",
    "from sklearn.model_selection import train_test_split\n",
    "from sklearn.metrics import mean_squared_error"
   ]
  },
  {
   "cell_type": "markdown",
   "metadata": {},
   "source": [
    "# Définition des fonctions"
   ]
  },
  {
   "cell_type": "code",
   "execution_count": 2,
   "metadata": {},
   "outputs": [],
   "source": [
    "def h(omega,x):\n",
    "    \"\"\"\n",
    "    Hypothesis function : tries to approximate y using x and omega\n",
    "    \n",
    "    omega : matrix(n+1,1) coefficients\n",
    "    x : matrix(n+1,1) features\n",
    "    n : int number of features\n",
    "    \"\"\"\n",
    "    return np.dot(x,omega)\n",
    "\n",
    "def J(omega,x,y,m,n):\n",
    "    \"\"\"\n",
    "    Cost function : calculates the gap between the approximation and y\n",
    "    \n",
    "    omega : matrix(n+1,1) coefficients\n",
    "    x : matrix(n+1,1) features\n",
    "    y : matrix(m,1) outputs\n",
    "    m : int number of samples\n",
    "    n : int number of features\n",
    "    \"\"\"\n",
    "    return \n",
    "\n",
    "def omega_next(omega,x,y,m,n,alpha):\n",
    "    \"\"\"\n",
    "    Calculates the next coefficient of omega\n",
    "    \n",
    "    omega : matrix(n+1,1) coefficients\n",
    "    x : matrix(n+1,1) features\n",
    "    y : matrix(m,1) outputs\n",
    "    m : int number of samples\n",
    "    n : int number of features\n",
    "    alpha : real number precision step of derivative\n",
    "    \"\"\"\n",
    "    return omega - (alpha/m) * np.transpose(np.dot(np.transpose(h(omega,x)-y),x))\n",
    "\n",
    "def gradient_descent(omega,x,y,m,n,iterations=1000,alpha=0.03,delta=0.01):\n",
    "    \"\"\"\n",
    "    Gradient descent\n",
    "    \n",
    "    omega : matrix(n+1,1) coefficients\n",
    "    x : matrix(n+1,1) features\n",
    "    y : matrix(m,1) outputs\n",
    "    m : int number of samples\n",
    "    n : int number of features\n",
    "    iterations : int number of max iterations (defaut 1000)\n",
    "    alpha : real number precision step of derivative\n",
    "    delta : real number derivative value min\n",
    "    \n",
    "    returns (J_history)\n",
    "    \"\"\"\n",
    "    #list of cost values\n",
    "    J_history = [J(omega,x,y,m,n)]\n",
    "    \n",
    "    #iterations of gradient descent\n",
    "    for i in range(iterations):\n",
    "        omega = omega_next(omega,x,y,m,n,alpha)\n",
    "        J_history.append(J(omega,x,y,m,n))\n",
    "        \n",
    "        if abs(J_history[-2]-J_history[-1]) < delta:\n",
    "            return (np.array(J_history).reshape(len(J_history)),omega)\n",
    "            \n",
    "    return (np.array(J_history).reshape(len(J_history)),omega)"
   ]
  },
  {
   "cell_type": "code",
   "execution_count": 3,
   "metadata": {},
   "outputs": [],
   "source": [
    "def normalize(column):\n",
    "    return (column - np.mean(column))/np.std(column)"
   ]
  },
  {
   "cell_type": "code",
   "execution_count": 5,
   "metadata": {},
   "outputs": [],
   "source": [
    "def MAE():\n",
    "    \"\"\"\n",
    "    Mean Absolute Error\n",
    "    \"\"\"\n",
    "\n",
    "def RMSE(y_test,y_predict):\n",
    "    \"\"\"\n",
    "    Root Mean Squared Error\n",
    "    \n",
    "    y_test : matrix(m,1) outputs\n",
    "    y_predict : matrix(m,1) outputs\n",
    "    m : int number of samples\n",
    "    \"\"\"\n",
    "    return np.dot(np.transpose(np.absolute(y_test-y_predict)),np.absolute(y_test-y_predict))\n"
   ]
  },
  {
   "cell_type": "markdown",
   "metadata": {},
   "source": [
    "# Ouverture du fichier"
   ]
  },
  {
   "cell_type": "code",
   "execution_count": 6,
   "metadata": {},
   "outputs": [],
   "source": [
    "df = pd.read_excel(open('Folds5x2_pp.xlsx', 'rb'),sheet_name='Sheet1')"
   ]
  },
  {
   "cell_type": "markdown",
   "metadata": {},
   "source": [
    "# Création des matrices normalisées"
   ]
  },
  {
   "cell_type": "code",
   "execution_count": 7,
   "metadata": {},
   "outputs": [
    {
     "name": "stdout",
     "output_type": "stream",
     "text": [
      "[[463.26]\n",
      " [444.37]\n",
      " [488.56]\n",
      " ...\n",
      " [429.57]\n",
      " [435.74]\n",
      " [453.28]]\n"
     ]
    }
   ],
   "source": [
    "df2 = pd.read_excel(open('Folds5x2_pp.xlsx', 'rb'),sheet_name='Sheet1')\n",
    "x = np.transpose(np.array([np.ones(len(df)),normalize(df['AT']),normalize(df['V']),normalize(df['AP']),normalize(df['RH'])]))\n",
    "y = np.array(df['PE']).reshape((len(df),1))\n",
    "m,n = x.shape\n",
    "omega = np.ones((n,1))"
   ]
  },
  {
   "cell_type": "markdown",
   "metadata": {},
   "source": [
    "# Séparation des sets de train et de test"
   ]
  },
  {
   "cell_type": "code",
   "execution_count": 6,
   "metadata": {},
   "outputs": [],
   "source": [
    "X_train, X_test, y_train, y_test = train_test_split(x, y, shuffle=True)"
   ]
  },
  {
   "cell_type": "markdown",
   "metadata": {},
   "source": [
    "# Application du gradient descendant"
   ]
  },
  {
   "cell_type": "code",
   "execution_count": 7,
   "metadata": {},
   "outputs": [
    {
     "data": {
      "image/png": "[encoded data removed]",
      "text/plain": [
       "<Figure size 432x288 with 1 Axes>"
      ]
     },
     "metadata": {
      "needs_background": "light"
     },
     "output_type": "display_data"
    },
    {
     "name": "stdout",
     "output_type": "stream",
     "text": [
      "[[453.89800887]\n",
      " [-10.36827875]\n",
      " [ -6.15496728]\n",
      " [  1.2187954 ]\n",
      " [ -0.83806304]]\n"
     ]
    }
   ],
   "source": [
    "J_history, omega_final = gradient_descent(omega,X_train,y_train,m,n)\n",
    "plt.plot(J_history[2:])\n",
    "plt.show()\n",
    "print(omega_final)"
   ]
  },
  {
   "cell_type": "code",
   "execution_count": 8,
   "metadata": {},
   "outputs": [
    {
     "name": "stdout",
     "output_type": "stream",
     "text": [
      "23.370533758020418\n"
     ]
    }
   ],
   "source": [
    "y_predict1 = np.dot(np.array(X_test),np.array(omega_final))\n",
    "print(mean_squared_error(y_test, y_predict1))"
   ]
  },
  {
   "cell_type": "markdown",
   "metadata": {},
   "source": [
    "# Comparaison à Scikit"
   ]
  },
  {
   "cell_type": "code",
   "execution_count": 9,
   "metadata": {},
   "outputs": [
    {
     "name": "stdout",
     "output_type": "stream",
     "text": [
      "19.666105376146202\n"
     ]
    }
   ],
   "source": [
    "model = LinearRegression()\n",
    "model.fit(X_train,y_train)\n",
    "y_predict2 = model.predict(X_test)\n",
    "print(mean_squared_error(y_test, y_predict2))"
   ]
  },
  {
   "cell_type": "markdown",
   "metadata": {},
   "source": [
    "# Application à tout le fichier"
   ]
  },
  {
   "cell_type": "code",
   "execution_count": 10,
   "metadata": {},
   "outputs": [
    {
     "data": {
      "text/plain": [
       "\"for i in range(5):\\n    df = pd.read_excel(open('Folds5x2_pp.xlsx', 'rb'),sheet_name='Sheet'+str(i+1))\\n    x = np.transpose(np.array([np.ones(len(df)),normalize(df['AT']),normalize(df['V']),normalize(df['AP']),normalize(df['RH'])]))\\n    y = np.array(df['PE']).reshape((len(df),1))\\n    m,n = x.shape\\n    omega = np.ones((n,1))\\n    J_history, omega_final = gradient_descent(omega,x,y,m,n)\\n    plt.plot(J_history[2:], label=str(i+1))\\nplt.legend(loc='best')\\nplt.show()\""
      ]
     },
     "execution_count": 10,
     "metadata": {},
     "output_type": "execute_result"
    }
   ],
   "source": [
    "\"\"\"for i in range(5):\n",
    "    df = pd.read_excel(open('Folds5x2_pp.xlsx', 'rb'),sheet_name='Sheet'+str(i+1))\n",
    "    x = np.transpose(np.array([np.ones(len(df)),normalize(df['AT']),normalize(df['V']),normalize(df['AP']),normalize(df['RH'])]))\n",
    "    y = np.array(df['PE']).reshape((len(df),1))\n",
    "    m,n = x.shape\n",
    "    omega = np.ones((n,1))\n",
    "    J_history, omega_final = gradient_descent(omega,x,y,m,n)\n",
    "    plt.plot(J_history[2:], label=str(i+1))\n",
    "plt.legend(loc='best')\n",
    "plt.show()\"\"\""
   ]
  }
 ],
 "metadata": {
  "kernelspec": {
   "display_name": "Python 3",
   "language": "python",
   "name": "python3"
  },
  "language_info": {
   "codemirror_mode": {
    "name": "ipython",
    "version": 3
   },
   "file_extension": ".py",
   "mimetype": "text/x-python",
   "name": "python",
   "nbconvert_exporter": "python",
   "pygments_lexer": "ipython3",
   "version": "3.7.1"
  }
 },
 "nbformat": 4,
 "nbformat_minor": 2
}
