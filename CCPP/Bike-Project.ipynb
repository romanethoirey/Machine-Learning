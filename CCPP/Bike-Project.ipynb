{
 "cells": [
  {
   "cell_type": "markdown",
   "metadata": {},
   "source": [
    "# M1 Big Data & Machine Learning\n",
    "### Machine Learning Project\n",
    "#### Grandjean Bixente, 09/12/2019\n",
    "\n",
    "Trying to predict bike demand using features as the date or the weather."
   ]
  },
  {
   "cell_type": "code",
   "execution_count": 1,
   "metadata": {},
   "outputs": [],
   "source": [
    "import pandas as pd\n",
    "import numpy as np\n",
    "import matplotlib.pyplot as plt\n",
    "from sklearn.linear_model import LinearRegression\n",
    "from sklearn.model_selection import train_test_split\n",
    "from sklearn.metrics import mean_squared_error,r2_score,mean_absolute_error"
   ]
  },
  {
   "cell_type": "markdown",
   "metadata": {},
   "source": [
    "# Functions definition\n",
    "#### Gradient Descent"
   ]
  },
  {
   "cell_type": "code",
   "execution_count": 2,
   "metadata": {},
   "outputs": [],
   "source": [
    "def h(omega,x):\n",
    "    \"\"\"\n",
    "    Hypothesis function : tries to approximate y using x and omega\n",
    "    \n",
    "    omega : matrix(n+1,1) coefficients\n",
    "    x : matrix(n+1,1) features\n",
    "    n : int number of features\n",
    "    \"\"\"\n",
    "    return np.dot(x,omega)\n",
    "\n",
    "def J(omega,x,y,m,n):\n",
    "    \"\"\"\n",
    "    Cost function : calculates the gap between the approximation and y\n",
    "    \n",
    "    omega : matrix(n+1,1) coefficients\n",
    "    x : matrix(n+1,1) features\n",
    "    y : matrix(m,1) outputs\n",
    "    m : int number of samples\n",
    "    n : int number of features\n",
    "    \"\"\"\n",
    "    return 0.5/m * np.dot(np.transpose(h(omega,x)-y),h(omega,x)-y)\n",
    "\n",
    "def omega_next(omega,x,y,m,n,alpha):\n",
    "    \"\"\"\n",
    "    Calculates the next coefficient of omega\n",
    "    \n",
    "    omega : matrix(n+1,1) coefficients\n",
    "    x : matrix(n+1,1) features\n",
    "    y : matrix(m,1) outputs\n",
    "    m : int number of samples\n",
    "    n : int number of features\n",
    "    alpha : real number precision step of derivative\n",
    "    \"\"\"\n",
    "    return omega - (alpha/m) * np.transpose(np.dot(np.transpose(h(omega,x)-y),x))\n",
    "\n",
    "def gradient_descent(omega,x,y,m,n,iterations=1000,alpha=0.03,delta=0.01):\n",
    "    \"\"\"\n",
    "    Gradient descent\n",
    "    \n",
    "    omega : matrix(n+1,1) coefficients\n",
    "    x : matrix(n+1,1) features\n",
    "    y : matrix(m,1) outputs\n",
    "    m : int number of samples\n",
    "    n : int number of features\n",
    "    iterations : int number of max iterations (defaut 1000)\n",
    "    alpha : real number precision step of derivative\n",
    "    delta : real number derivative value min\n",
    "    \n",
    "    returns (J_history,omega)\n",
    "    \"\"\"\n",
    "    #list of cost values\n",
    "    J_history = [J(omega,x,y,m,n)]\n",
    "    \n",
    "    #iterations of gradient descent\n",
    "    for i in range(iterations):\n",
    "        omega = omega_next(omega,x,y,m,n,alpha)\n",
    "        J_history.append(J(omega,x,y,m,n))\n",
    "        \n",
    "        if abs(J_history[-2]-J_history[-1]) < delta:\n",
    "            return (np.array(J_history).reshape(len(J_history)),omega)\n",
    "            \n",
    "    return (np.array(J_history).reshape(len(J_history)),omega)"
   ]
  },
  {
   "cell_type": "markdown",
   "metadata": {},
   "source": [
    "#### Normal Equation"
   ]
  },
  {
   "cell_type": "code",
   "execution_count": 3,
   "metadata": {},
   "outputs": [],
   "source": [
    "def normal_equation(x,y):\n",
    "    \"\"\"\n",
    "    Normal equation\n",
    "    \n",
    "    x : matrix(n+1,1) features\n",
    "    y : matrix(m,1) outputs\n",
    "    \n",
    "    returns omega\n",
    "    \"\"\"\n",
    "    return np.dot(np.linalg.inv(np.dot(np.transpose(x),x)),np.dot(np.transpose(x),y))"
   ]
  },
  {
   "cell_type": "markdown",
   "metadata": {},
   "source": [
    "#### Features Normalization"
   ]
  },
  {
   "cell_type": "code",
   "execution_count": 4,
   "metadata": {},
   "outputs": [],
   "source": [
    "def normalize(column):\n",
    "    return (column - np.mean(column))/np.std(column)"
   ]
  },
  {
   "cell_type": "markdown",
   "metadata": {},
   "source": [
    "#### Analysis functions"
   ]
  },
  {
   "cell_type": "code",
   "execution_count": 5,
   "metadata": {},
   "outputs": [],
   "source": [
    "def MAE(y_test,y_predict):\n",
    "    \"\"\"\n",
    "    Mean Absolute Error\n",
    "    \n",
    "    y_test : matrix(m,1) outputs\n",
    "    y_predict : matrix(m,1) outputs\n",
    "    m : int number of samples\n",
    "    \"\"\"\n",
    "    return np.mean(np.absolute(y_test-y_predict))\n",
    "\n",
    "def RMSE(y_test,y_predict):\n",
    "    \"\"\"\n",
    "    Root Mean Squared Error\n",
    "    \n",
    "    y_test : matrix(m,1) outputs\n",
    "    y_predict : matrix(m,1) outputs\n",
    "    m : int number of samples\n",
    "    \"\"\"\n",
    "    return np.sqrt(np.mean(np.square(y_test-y_predict)))\n",
    "\n",
    "#NOTE : This R2 and scikit's r2_score do not return the same value\n",
    "def R2(y_test,y_predict):\n",
    "    \"\"\"\n",
    "    Coefficient of determination\n",
    "    \n",
    "    y_test : matrix(m,1) outputs\n",
    "    y_predict : matrix(m,1) outputs\n",
    "    m : int number of samples\n",
    "    \"\"\"\n",
    "    return 1 - np.asscalar(np.divide(np.dot(np.transpose(y_predict-y_test),y_predict-y_test),\\\n",
    "                                     np.dot(np.transpose(y_predict-np.mean(y_test)),y_predict-np.mean(y_test))))\n",
    "\n",
    "def analysis(y_test,y_predict):\n",
    "    \"\"\"\n",
    "    Displays the MAE, RMSE & R2 of a prediction over a dataset\n",
    "    Returns the list of values\n",
    "    \"\"\"\n",
    "    print(\"MAE :\")\n",
    "    print(MAE(y_test, y_predict))\n",
    "    #print(mean_absolute_error(y_test, y_predict))\n",
    "    print(\"RMSE :\")\n",
    "    print(RMSE(y_test, y_predict))\n",
    "    #print(np.sqrt(mean_squared_error(y_test, y_predict)))\n",
    "    print(\"R2 :\")\n",
    "    print(R2(y_test, y_predict))\n",
    "    #print(r2_score(y_test, y_predict))\n",
    "    return [MAE(y_test, y_predict),RMSE(y_test, y_predict),R2(y_test, y_predict)]"
   ]
  },
  {
   "cell_type": "markdown",
   "metadata": {},
   "source": [
    "# File opening"
   ]
  },
  {
   "cell_type": "code",
   "execution_count": 6,
   "metadata": {},
   "outputs": [
    {
     "data": {
      "text/html": [
       "<div>\n",
       "<style scoped>\n",
       "    .dataframe tbody tr th:only-of-type {\n",
       "        vertical-align: middle;\n",
       "    }\n",
       "\n",
       "    .dataframe tbody tr th {\n",
       "        vertical-align: top;\n",
       "    }\n",
       "\n",
       "    .dataframe thead th {\n",
       "        text-align: right;\n",
       "    }\n",
       "</style>\n",
       "<table border=\"1\" class=\"dataframe\">\n",
       "  <thead>\n",
       "    <tr style=\"text-align: right;\">\n",
       "      <th></th>\n",
       "      <th>season</th>\n",
       "      <th>yr</th>\n",
       "      <th>mnth</th>\n",
       "      <th>hr</th>\n",
       "      <th>holiday</th>\n",
       "      <th>workingday</th>\n",
       "      <th>weathersit</th>\n",
       "      <th>temp</th>\n",
       "      <th>hum</th>\n",
       "      <th>windspeed</th>\n",
       "      <th>dayOfWeek</th>\n",
       "      <th>days</th>\n",
       "      <th>demand</th>\n",
       "    </tr>\n",
       "  </thead>\n",
       "  <tbody>\n",
       "    <tr>\n",
       "      <th>0</th>\n",
       "      <td>1</td>\n",
       "      <td>0</td>\n",
       "      <td>1</td>\n",
       "      <td>0</td>\n",
       "      <td>0</td>\n",
       "      <td>0</td>\n",
       "      <td>1</td>\n",
       "      <td>0.24</td>\n",
       "      <td>0.81</td>\n",
       "      <td>0.0</td>\n",
       "      <td>Sat</td>\n",
       "      <td>0</td>\n",
       "      <td>16</td>\n",
       "    </tr>\n",
       "    <tr>\n",
       "      <th>1</th>\n",
       "      <td>1</td>\n",
       "      <td>0</td>\n",
       "      <td>1</td>\n",
       "      <td>1</td>\n",
       "      <td>0</td>\n",
       "      <td>0</td>\n",
       "      <td>1</td>\n",
       "      <td>0.22</td>\n",
       "      <td>0.80</td>\n",
       "      <td>0.0</td>\n",
       "      <td>Sat</td>\n",
       "      <td>0</td>\n",
       "      <td>40</td>\n",
       "    </tr>\n",
       "    <tr>\n",
       "      <th>2</th>\n",
       "      <td>1</td>\n",
       "      <td>0</td>\n",
       "      <td>1</td>\n",
       "      <td>2</td>\n",
       "      <td>0</td>\n",
       "      <td>0</td>\n",
       "      <td>1</td>\n",
       "      <td>0.22</td>\n",
       "      <td>0.80</td>\n",
       "      <td>0.0</td>\n",
       "      <td>Sat</td>\n",
       "      <td>0</td>\n",
       "      <td>32</td>\n",
       "    </tr>\n",
       "    <tr>\n",
       "      <th>3</th>\n",
       "      <td>1</td>\n",
       "      <td>0</td>\n",
       "      <td>1</td>\n",
       "      <td>3</td>\n",
       "      <td>0</td>\n",
       "      <td>0</td>\n",
       "      <td>1</td>\n",
       "      <td>0.24</td>\n",
       "      <td>0.75</td>\n",
       "      <td>0.0</td>\n",
       "      <td>Sat</td>\n",
       "      <td>0</td>\n",
       "      <td>13</td>\n",
       "    </tr>\n",
       "    <tr>\n",
       "      <th>4</th>\n",
       "      <td>1</td>\n",
       "      <td>0</td>\n",
       "      <td>1</td>\n",
       "      <td>4</td>\n",
       "      <td>0</td>\n",
       "      <td>0</td>\n",
       "      <td>1</td>\n",
       "      <td>0.24</td>\n",
       "      <td>0.75</td>\n",
       "      <td>0.0</td>\n",
       "      <td>Sat</td>\n",
       "      <td>0</td>\n",
       "      <td>1</td>\n",
       "    </tr>\n",
       "  </tbody>\n",
       "</table>\n",
       "</div>"
      ],
      "text/plain": [
       "   season  yr  mnth  hr  holiday  workingday  weathersit  temp   hum  \\\n",
       "0       1   0     1   0        0           0           1  0.24  0.81   \n",
       "1       1   0     1   1        0           0           1  0.22  0.80   \n",
       "2       1   0     1   2        0           0           1  0.22  0.80   \n",
       "3       1   0     1   3        0           0           1  0.24  0.75   \n",
       "4       1   0     1   4        0           0           1  0.24  0.75   \n",
       "\n",
       "   windspeed dayOfWeek  days  demand  \n",
       "0        0.0       Sat     0      16  \n",
       "1        0.0       Sat     0      40  \n",
       "2        0.0       Sat     0      32  \n",
       "3        0.0       Sat     0      13  \n",
       "4        0.0       Sat     0       1  "
      ]
     },
     "execution_count": 6,
     "metadata": {},
     "output_type": "execute_result"
    }
   ],
   "source": [
    "bikes = pd.read_csv('./Bike Rental UCI dataset.csv')\n",
    "bikes.head(5)"
   ]
  },
  {
   "cell_type": "code",
   "execution_count": 7,
   "metadata": {},
   "outputs": [
    {
     "name": "stdout",
     "output_type": "stream",
     "text": [
      "Demand column description\n"
     ]
    },
    {
     "data": {
      "text/plain": [
       "count    17379.000000\n",
       "mean       189.463088\n",
       "std        181.387599\n",
       "min          1.000000\n",
       "25%         40.000000\n",
       "50%        142.000000\n",
       "75%        281.000000\n",
       "max        977.000000\n",
       "Name: demand, dtype: float64"
      ]
     },
     "execution_count": 7,
     "metadata": {},
     "output_type": "execute_result"
    }
   ],
   "source": [
    "print('Demand column description')\n",
    "bikes['demand'].describe()"
   ]
  },
  {
   "cell_type": "markdown",
   "metadata": {},
   "source": [
    "# File cleaning and normalization"
   ]
  },
  {
   "cell_type": "code",
   "execution_count": 8,
   "metadata": {},
   "outputs": [],
   "source": [
    "features = bikes.drop(columns=['demand'])\n",
    "demand = bikes['demand']\n",
    "\n",
    "features = pd.concat([features,pd.get_dummies(features['season'], prefix='season')], axis=1)\n",
    "features = pd.concat([features,pd.get_dummies(features['mnth'], prefix='month')], axis=1)\n",
    "features = pd.concat([features,pd.get_dummies(features['hr'], prefix='hour')], axis=1)\n",
    "features = pd.concat([features,pd.get_dummies(features['weathersit'], prefix='weathersit')], axis=1)\n",
    "features = pd.concat([features,pd.get_dummies(features['dayOfWeek'], prefix='dayOfWeek')], axis=1)\n",
    "features.drop(columns=['season','yr','mnth','hr','weathersit','dayOfWeek','days'], inplace=True)\n",
    "\n",
    "x = np.concatenate((np.ones(len(features)).reshape(len(features),1),features.to_numpy()), axis=1)\n",
    "y = np.array(demand).reshape((len(features),1))\n",
    "m,n = x.shape\n",
    "omega = np.ones((n,1))"
   ]
  },
  {
   "cell_type": "markdown",
   "metadata": {},
   "source": [
    "# Spliting test and train sets"
   ]
  },
  {
   "cell_type": "code",
   "execution_count": 9,
   "metadata": {},
   "outputs": [],
   "source": [
    "X_train, X_test, y_train, y_test = train_test_split(x, y, shuffle=True)"
   ]
  },
  {
   "cell_type": "markdown",
   "metadata": {},
   "source": [
    "# Gradient Descent\n",
    "#### Application"
   ]
  },
  {
   "cell_type": "code",
   "execution_count": 10,
   "metadata": {},
   "outputs": [
    {
     "data": {
      "image/png": "[encoded data removed]",
      "text/plain": [
       "<Figure size 432x288 with 1 Axes>"
      ]
     },
     "metadata": {
      "needs_background": "light"
     },
     "output_type": "display_data"
    }
   ],
   "source": [
    "J_history, omega_gd = gradient_descent(omega,X_train,y_train,m,n,10000)\n",
    "plt.plot(J_history[2:])\n",
    "plt.show()"
   ]
  },
  {
   "cell_type": "markdown",
   "metadata": {},
   "source": [
    "#### Prediction"
   ]
  },
  {
   "cell_type": "code",
   "execution_count": 11,
   "metadata": {},
   "outputs": [
    {
     "name": "stdout",
     "output_type": "stream",
     "text": [
      "MAE :\n",
      "78.9242557774131\n",
      "RMSE :\n",
      "109.6736693214668\n",
      "R2 :\n",
      "0.39539613211776137\n"
     ]
    }
   ],
   "source": [
    "y_predict1 = np.dot(np.array(X_test),np.array(omega_gd))\n",
    "gd = analysis(y_test,y_predict1)"
   ]
  },
  {
   "cell_type": "markdown",
   "metadata": {},
   "source": [
    "# Normal Equation\n",
    "#### Application"
   ]
  },
  {
   "cell_type": "code",
   "execution_count": 12,
   "metadata": {},
   "outputs": [],
   "source": [
    "omega_en = normal_equation(x,y)"
   ]
  },
  {
   "cell_type": "markdown",
   "metadata": {},
   "source": [
    "#### Prediction"
   ]
  },
  {
   "cell_type": "code",
   "execution_count": 13,
   "metadata": {},
   "outputs": [
    {
     "name": "stdout",
     "output_type": "stream",
     "text": [
      "MAE :\n",
      "2062.2554946733203\n",
      "RMSE :\n",
      "2592.3425475712247\n",
      "R2 :\n",
      "0.022671613866673712\n"
     ]
    }
   ],
   "source": [
    "y_predict2 = np.dot(np.array(X_test),np.array(omega_en))\n",
    "ne = analysis(y_test,y_predict2)"
   ]
  },
  {
   "cell_type": "markdown",
   "metadata": {},
   "source": [
    "# Scikit Model\n",
    "#### Application"
   ]
  },
  {
   "cell_type": "code",
   "execution_count": 14,
   "metadata": {},
   "outputs": [
    {
     "data": {
      "text/plain": [
       "LinearRegression(copy_X=True, fit_intercept=True, n_jobs=None, normalize=False)"
      ]
     },
     "execution_count": 14,
     "metadata": {},
     "output_type": "execute_result"
    }
   ],
   "source": [
    "model = LinearRegression()\n",
    "model.fit(X_train,y_train)"
   ]
  },
  {
   "cell_type": "markdown",
   "metadata": {},
   "source": [
    "#### Prediction"
   ]
  },
  {
   "cell_type": "code",
   "execution_count": 15,
   "metadata": {},
   "outputs": [
    {
     "name": "stdout",
     "output_type": "stream",
     "text": [
      "MAE :\n",
      "78.47157652474108\n",
      "RMSE :\n",
      "109.22451645233437\n",
      "R2 :\n",
      "0.42058447809437693\n"
     ]
    }
   ],
   "source": [
    "y_predict3 = model.predict(X_test)\n",
    "sm = analysis(y_test,y_predict3)"
   ]
  },
  {
   "cell_type": "code",
   "execution_count": 16,
   "metadata": {},
   "outputs": [],
   "source": [
    "analysis = pd.DataFrame(np.transpose(np.array((['MAE','RMSE','R2'],gd,ne,sm)))\\\n",
    "                        ,columns=['Mesure','Gradient Descent','Normal Equation','Scikit Model'])\n",
    "analysis.set_index(['Mesure'], inplace=True)"
   ]
  },
  {
   "cell_type": "markdown",
   "metadata": {},
   "source": [
    "# Conclusion\n",
    "\n",
    "_Scikit Model_ and _Gradient Descent_ return similar values while _Normal Equation_ looks absurd. I suppose this comes from an implementation issue. Also, prediction on the orginal dataset was not possible given that there were categorical datas and huge values.\n",
    "\n",
    "Nevertheless, even if _Scikit Model_ and _Gradient Descent_ look similar, the predictions are quite bad. Indeed, the MAE is above 80 while the demand mean is arround 180. This mean that we have an average of 45% or error.\n",
    "\n",
    "Moreover, the R2 score (which is supposed to be over 0.90 for a good regression) doesn't even reach 0.50."
   ]
  },
  {
   "cell_type": "code",
   "execution_count": 17,
   "metadata": {},
   "outputs": [
    {
     "data": {
      "text/html": [
       "<div>\n",
       "<style scoped>\n",
       "    .dataframe tbody tr th:only-of-type {\n",
       "        vertical-align: middle;\n",
       "    }\n",
       "\n",
       "    .dataframe tbody tr th {\n",
       "        vertical-align: top;\n",
       "    }\n",
       "\n",
       "    .dataframe thead th {\n",
       "        text-align: right;\n",
       "    }\n",
       "</style>\n",
       "<table border=\"1\" class=\"dataframe\">\n",
       "  <thead>\n",
       "    <tr style=\"text-align: right;\">\n",
       "      <th></th>\n",
       "      <th>Gradient Descent</th>\n",
       "      <th>Normal Equation</th>\n",
       "      <th>Scikit Model</th>\n",
       "    </tr>\n",
       "    <tr>\n",
       "      <th>Mesure</th>\n",
       "      <th></th>\n",
       "      <th></th>\n",
       "      <th></th>\n",
       "    </tr>\n",
       "  </thead>\n",
       "  <tbody>\n",
       "    <tr>\n",
       "      <th>MAE</th>\n",
       "      <td>78.9242557774131</td>\n",
       "      <td>2062.2554946733203</td>\n",
       "      <td>78.47157652474108</td>\n",
       "    </tr>\n",
       "    <tr>\n",
       "      <th>RMSE</th>\n",
       "      <td>109.6736693214668</td>\n",
       "      <td>2592.3425475712247</td>\n",
       "      <td>109.22451645233437</td>\n",
       "    </tr>\n",
       "    <tr>\n",
       "      <th>R2</th>\n",
       "      <td>0.39539613211776137</td>\n",
       "      <td>0.022671613866673712</td>\n",
       "      <td>0.42058447809437693</td>\n",
       "    </tr>\n",
       "  </tbody>\n",
       "</table>\n",
       "</div>"
      ],
      "text/plain": [
       "           Gradient Descent       Normal Equation         Scikit Model\n",
       "Mesure                                                                \n",
       "MAE        78.9242557774131    2062.2554946733203    78.47157652474108\n",
       "RMSE      109.6736693214668    2592.3425475712247   109.22451645233437\n",
       "R2      0.39539613211776137  0.022671613866673712  0.42058447809437693"
      ]
     },
     "execution_count": 17,
     "metadata": {},
     "output_type": "execute_result"
    }
   ],
   "source": [
    "analysis"
   ]
  }
 ],
 "metadata": {
  "kernelspec": {
   "display_name": "Python 3",
   "language": "python",
   "name": "python3"
  },
  "language_info": {
   "codemirror_mode": {
    "name": "ipython",
    "version": 3
   },
   "file_extension": ".py",
   "mimetype": "text/x-python",
   "name": "python",
   "nbconvert_exporter": "python",
   "pygments_lexer": "ipython3",
   "version": "3.7.1"
  }
 },
 "nbformat": 4,
 "nbformat_minor": 2
}
