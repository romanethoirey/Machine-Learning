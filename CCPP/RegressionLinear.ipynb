{
 "cells": [
  {
   "cell_type": "markdown",
   "metadata": {},
   "source": [
    "# Regression Lineaire from scratch"
   ]
  },
  {
   "cell_type": "markdown",
   "metadata": {},
   "source": [
    "- Normalize features ($\\mu$, $\\sigma$)\n",
    "- Cost functions ()\n",
    "- Gradient descent ()\n",
    "\n",
    "m : number of observations in the training data set.  \n",
    "n : features\n",
    "iterations = 1000  \n",
    "delta = 0.001  \n",
    "alpha = 0.03\n",
    "\n",
    "J(w) = $\\frac{1}{2m}$ $\\sum_{i=1}^{nb}$ ( h<sub>w</sub> (x<sup>(i)</sup>) - y<sup>(i)</sup> )<sup>2</sup>\n",
    "\n",
    "Gradient descent:   \n",
    "Repeat until convergence  \n",
    "w<sub>k</sub> = w<sub>k</sub> - $\\frac{lamda}{m}$ $\\sum_{i=1}^{nb}$ ( h<sub>w</sub> (x<sup>(i)</sup>) - y<sup>(i)</sup> ) x<sub>k</sub><sup>(i)</sup>"
   ]
  },
  {
   "cell_type": "code",
   "execution_count": 1,
   "metadata": {},
   "outputs": [],
   "source": [
    "import numpy as np\n",
    "import matplotlib.pyplot as plt\n",
    "import pandas as pd"
   ]
  },
  {
   "cell_type": "code",
   "execution_count": 2,
   "metadata": {},
   "outputs": [
    {
     "name": "stdout",
     "output_type": "stream",
     "text": [
      "Total samples in our dataset is: 9568\n"
     ]
    }
   ],
   "source": [
    "xls = pd.ExcelFile('./Folds5x2_pp.xlsx')\n",
    "df1 = pd.read_excel(xls, 'Sheet1')\n",
    "df2 = pd.read_excel(xls, 'Sheet2')\n",
    "df3 = pd.read_excel(xls, 'Sheet3')\n",
    "df4 = pd.read_excel(xls, 'Sheet4')\n",
    "df5 = pd.read_excel(xls, 'Sheet5')\n",
    "\n",
    "m = len(df1)\n",
    "n_features = 4\n",
    "n_iter = 1000\n",
    "delta = 0.0000001\n",
    "learning_rate = 0.01\n",
    "\n",
    "w = np.ones((n_features + 1, 1))\n",
    "\n",
    "X = np.array((np.ones((m)),  df1['AT'], df1['V'], df1['AP'], df1['RH'])).T\n",
    "Y = df1['PE'].values\n",
    "\n",
    "print(\"Total samples in our dataset is: {}\".format(X.shape[0]))"
   ]
  },
  {
   "cell_type": "code",
   "execution_count": 3,
   "metadata": {},
   "outputs": [
    {
     "name": "stdout",
     "output_type": "stream",
     "text": [
      "(5, 1) [[1.]\n",
      " [1.]\n",
      " [1.]\n",
      " [1.]\n",
      " [1.]]\n",
      "(9568, 5) [[1.00000e+00 1.49600e+01 4.17600e+01 1.02407e+03 7.31700e+01]\n",
      " [1.00000e+00 2.51800e+01 6.29600e+01 1.02004e+03 5.90800e+01]\n",
      " [1.00000e+00 5.11000e+00 3.94000e+01 1.01216e+03 9.21400e+01]\n",
      " ...\n",
      " [1.00000e+00 3.13200e+01 7.43300e+01 1.01292e+03 3.64800e+01]\n",
      " [1.00000e+00 2.44800e+01 6.94500e+01 1.01386e+03 6.23900e+01]\n",
      " [1.00000e+00 2.16000e+01 6.25200e+01 1.01723e+03 6.78700e+01]]\n"
     ]
    }
   ],
   "source": [
    "print(w.shape, w)\n",
    "print(X.shape, X)"
   ]
  },
  {
   "cell_type": "code",
   "execution_count": 4,
   "metadata": {},
   "outputs": [],
   "source": [
    "def normalisation(X):\n",
    "    return (X - X.mean())/X.std()\n",
    "X = normalisation(X)\n",
    "Y = normalisation(Y)"
   ]
  },
  {
   "cell_type": "code",
   "execution_count": 5,
   "metadata": {},
   "outputs": [],
   "source": [
    "def h(X, omega):\n",
    "    return np.dot(X,omega)"
   ]
  },
  {
   "cell_type": "code",
   "execution_count": 6,
   "metadata": {},
   "outputs": [
    {
     "name": "stdout",
     "output_type": "stream",
     "text": [
      "(5, 1)\n",
      "(9568, 5)\n"
     ]
    },
    {
     "data": {
      "text/plain": [
       "4793.409334689109"
      ]
     },
     "execution_count": 6,
     "metadata": {},
     "output_type": "execute_result"
    }
   ],
   "source": [
    "def compute_cost(X, y, params):\n",
    "    n_samples = len(y)\n",
    "    return (1/(2*n_samples))*np.sum((h(X,params)-y)**2)\n",
    "\n",
    "print(w.shape)\n",
    "print(X.shape)\n",
    "compute_cost(X, Y, w)"
   ]
  },
  {
   "cell_type": "code",
   "execution_count": 9,
   "metadata": {},
   "outputs": [],
   "source": [
    "def gradient_descent(X, Y, omega, learning_rate,n_iter):\n",
    "    n_samples = len(Y)\n",
    "    cost_history = np.zeros(n_iter)\n",
    "    #omega_history = np.zeros((n_iter))\n",
    "    #print(omega_history[0].shape)\n",
    "    \n",
    "    for i in range(n_iter):\n",
    "        prediction = h(X,omega)\n",
    "        \n",
    "        omega = omega - (1/n_samples) * learning_rate * (X.T.dot((prediction - Y)))\n",
    "        cost_history[i] = compute_cost(X,Y,omega)\n",
    "    \n",
    "    return omega, cost_history"
   ]
  },
  {
   "cell_type": "code",
   "execution_count": null,
   "metadata": {},
   "outputs": [],
   "source": [
    "params, cost_history  = gradient_descent(X,Y,w,learning_rate,n_iter=1000)\n",
    "plt.title('Cost Function J')\n",
    "plt.xlabel('No. of iterations')\n",
    "plt.ylabel('Cost')\n",
    "plt.plot(cost_history)\n",
    "plt.show()"
   ]
  },
  {
   "cell_type": "code",
   "execution_count": null,
   "metadata": {},
   "outputs": [],
   "source": [
    "df = pd.read_csv('./house.csv')\n",
    "\n",
    "m = len(df)\n",
    "n_features = 3\n",
    "n_iter = 1000\n",
    "delta = 0.0000001\n",
    "learning_rate = 0.03\n",
    "\n",
    "w = np.ones((n_features + 1, 1))\n",
    "\n",
    "X = np.array((np.ones((m)),  df['size'], df['nb_rooms'], df['garden'])).T\n",
    "Y = df['price'].values\n",
    "\n",
    "print(\"Total samples in our dataset is: {}\".format(X.shape[0]))"
   ]
  },
  {
   "cell_type": "code",
   "execution_count": null,
   "metadata": {},
   "outputs": [],
   "source": [
    "J_history, params = gradient_descent(X,Y,w,learning_rate,n_iter, delta)\n",
    "plt.title('Cost Function J')\n",
    "plt.xlabel('No. of iterations')\n",
    "plt.ylabel('Cost')\n",
    "plt.plot(J_history)\n",
    "plt.show()"
   ]
  },
  {
   "cell_type": "code",
   "execution_count": null,
   "metadata": {},
   "outputs": [],
   "source": [
    "gradient_descent(X,Y,w,learning_rate,n_iter, delta)"
   ]
  },
  {
   "cell_type": "code",
   "execution_count": null,
   "metadata": {},
   "outputs": [],
   "source": []
  }
 ],
 "metadata": {
  "kernelspec": {
   "display_name": "Python 3",
   "language": "python",
   "name": "python3"
  },
  "language_info": {
   "codemirror_mode": {
    "name": "ipython",
    "version": 3
   },
   "file_extension": ".py",
   "mimetype": "text/x-python",
   "name": "python",
   "nbconvert_exporter": "python",
   "pygments_lexer": "ipython3",
   "version": "3.7.1"
  }
 },
 "nbformat": 4,
 "nbformat_minor": 2
}
