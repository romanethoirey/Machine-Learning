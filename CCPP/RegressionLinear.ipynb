{
 "cells": [
  {
   "cell_type": "markdown",
   "metadata": {},
   "source": [
    "# Regression Lineaire from scratch"
   ]
  },
  {
   "cell_type": "markdown",
   "metadata": {},
   "source": [
    "- Normalize features ($\\mu$, $\\sigma$)\n",
    "- Cost functions ()\n",
    "- Gradient descent ()\n",
    "\n",
    "m : number of observations in the training data set.  \n",
    "n : features\n",
    "iterations = 1000  \n",
    "delta = 0.001  \n",
    "alpha = 0.03\n",
    "\n",
    "J(w) = $\\frac{1}{2m}$ $\\sum_{i=1}^{nb}$ ( h<sub>w</sub> (x<sup>(i)</sup>) - y<sup>(i)</sup> )<sup>2</sup>\n",
    "\n",
    "Gradient descent:   \n",
    "Repeat until convergence  \n",
    "w<sub>k</sub> = w<sub>k</sub> - $\\frac{lamda}{m}$ $\\sum_{i=1}^{nb}$ ( h<sub>w</sub> (x<sup>(i)</sup>) - y<sup>(i)</sup> ) x<sub>k</sub><sup>(i)</sup>"
   ]
  },
  {
   "cell_type": "code",
   "execution_count": 1,
   "metadata": {},
   "outputs": [],
   "source": [
    "import numpy as np\n",
    "import matplotlib.pyplot as plt\n",
    "import pandas as pd"
   ]
  },
  {
   "cell_type": "code",
   "execution_count": 2,
   "metadata": {},
   "outputs": [
    {
     "name": "stdout",
     "output_type": "stream",
     "text": [
      "Total samples in our dataset is: 9568\n"
     ]
    }
   ],
   "source": [
    "xls = pd.ExcelFile('./Folds5x2_pp.xlsx')\n",
    "df1 = pd.read_excel(xls, 'Sheet1')\n",
    "df2 = pd.read_excel(xls, 'Sheet2')\n",
    "df3 = pd.read_excel(xls, 'Sheet3')\n",
    "df4 = pd.read_excel(xls, 'Sheet4')\n",
    "df5 = pd.read_excel(xls, 'Sheet5')\n",
    "\n",
    "m = len(df1)\n",
    "n_features = 4\n",
    "n_iter = 1000\n",
    "delta = 0.01\n",
    "learning_rate = 0.03\n",
    "\n",
    "w = np.ones((n_features + 1, 1))\n",
    "\n",
    "X = np.array((np.ones((m)),  df1['AT'], df1['V'], df1['AP'], df1['RH'])).T\n",
    "Y = df1['PE'].values\n",
    "\n",
    "print(\"Total samples in our dataset is: {}\".format(X.shape[0]))"
   ]
  },
  {
   "cell_type": "code",
   "execution_count": 3,
   "metadata": {},
   "outputs": [
    {
     "name": "stdout",
     "output_type": "stream",
     "text": [
      "(5, 1) [[1.]\n",
      " [1.]\n",
      " [1.]\n",
      " [1.]\n",
      " [1.]]\n",
      "(9568, 5) [[1.00000e+00 1.49600e+01 4.17600e+01 1.02407e+03 7.31700e+01]\n",
      " [1.00000e+00 2.51800e+01 6.29600e+01 1.02004e+03 5.90800e+01]\n",
      " [1.00000e+00 5.11000e+00 3.94000e+01 1.01216e+03 9.21400e+01]\n",
      " ...\n",
      " [1.00000e+00 3.13200e+01 7.43300e+01 1.01292e+03 3.64800e+01]\n",
      " [1.00000e+00 2.44800e+01 6.94500e+01 1.01386e+03 6.23900e+01]\n",
      " [1.00000e+00 2.16000e+01 6.25200e+01 1.01723e+03 6.78700e+01]]\n"
     ]
    }
   ],
   "source": [
    "print(w.shape, w)\n",
    "print(X.shape, X)"
   ]
  },
  {
   "cell_type": "code",
   "execution_count": 4,
   "metadata": {},
   "outputs": [],
   "source": [
    "def normalisation(X):\n",
    "    return (X - X.mean())/X.std()\n",
    "X = normalisation(X)"
   ]
  },
  {
   "cell_type": "code",
   "execution_count": 5,
   "metadata": {},
   "outputs": [],
   "source": [
    "def h(X, omega):\n",
    "    return np.dot(X,omega)"
   ]
  },
  {
   "cell_type": "code",
   "execution_count": 6,
   "metadata": {},
   "outputs": [
    {
     "name": "stdout",
     "output_type": "stream",
     "text": [
      "(5, 1)\n",
      "(9568, 5)\n"
     ]
    },
    {
     "data": {
      "text/plain": [
       "989038493.9002846"
      ]
     },
     "execution_count": 6,
     "metadata": {},
     "output_type": "execute_result"
    }
   ],
   "source": [
    "def compute_cost(X, y, params):\n",
    "    n_samples = len(y)\n",
    "    return (1/(2*n_samples))*np.sum((h(X,params)-y)**2)\n",
    "\n",
    "print(w.shape)\n",
    "print(X.shape)\n",
    "compute_cost(X, Y, w)"
   ]
  },
  {
   "cell_type": "code",
   "execution_count": 7,
   "metadata": {},
   "outputs": [],
   "source": [
    "def gradient_descent(X, y, params, learning_rate, n_iters, delta):\n",
    "    n_samples = len(y)\n",
    "    J_history = [compute_cost(X, y, params)]\n",
    "    diff = delta + 1\n",
    "    i = 1\n",
    "    \n",
    "    while i < n_iters and diff > delta :\n",
    "        params = params - (learning_rate/n_samples) * np.dot(X.T,(np.dot(X, params - y)))\n",
    "        J_history.append(compute_cost(X, y, params))\n",
    "        diff = J_history[i] - J_history[i-1]\n",
    "        i+=1\n",
    "\n",
    "    return (J_history, params)\n",
    "\n"
   ]
  },
  {
   "cell_type": "code",
   "execution_count": 8,
   "metadata": {},
   "outputs": [
    {
     "data": {
      "image/png": "[encoded data removed]",
      "text/plain": [
       "<Figure size 432x288 with 1 Axes>"
      ]
     },
     "metadata": {
      "needs_background": "light"
     },
     "output_type": "display_data"
    }
   ],
   "source": [
    "J_history, params = gradient_descent(X,Y,w,learning_rate,n_iter, delta)\n",
    "plt.title('Cost Function J')\n",
    "plt.xlabel('No. of iterations')\n",
    "plt.ylabel('Cost')\n",
    "plt.plot(J_history)\n",
    "plt.show()"
   ]
  },
  {
   "cell_type": "code",
   "execution_count": 9,
   "metadata": {},
   "outputs": [
    {
     "name": "stdout",
     "output_type": "stream",
     "text": [
      "Total samples in our dataset is: 950\n"
     ]
    }
   ],
   "source": [
    "df = pd.read_csv('./house.csv')\n",
    "\n",
    "m = len(df)\n",
    "n_features = 3\n",
    "n_iter = 1000\n",
    "delta = 0.01\n",
    "learning_rate = 0.03\n",
    "\n",
    "w = np.ones((n_features + 1, 1))\n",
    "\n",
    "X = np.array((np.ones((m)),  df['size'], df['nb_rooms'], df['garden'])).T\n",
    "Y = df['price'].values\n",
    "\n",
    "print(\"Total samples in our dataset is: {}\".format(X.shape[0]))"
   ]
  },
  {
   "cell_type": "code",
   "execution_count": 10,
   "metadata": {},
   "outputs": [
    {
     "name": "stderr",
     "output_type": "stream",
     "text": [
      "/Users/romane/anaconda3/lib/python3.7/site-packages/numpy/core/fromnumeric.py:90: RuntimeWarning: overflow encountered in reduce\n",
      "  return ufunc.reduce(obj, axis, dtype, out, **passkwargs)\n",
      "/Users/romane/anaconda3/lib/python3.7/site-packages/ipykernel_launcher.py:3: RuntimeWarning: overflow encountered in square\n",
      "  This is separate from the ipykernel package so we can avoid doing imports until\n",
      "/Users/romane/anaconda3/lib/python3.7/site-packages/ipykernel_launcher.py:10: RuntimeWarning: invalid value encountered in double_scalars\n",
      "  # Remove the CWD from sys.path while we load stuff.\n"
     ]
    },
    {
     "data": {
      "text/plain": [
       "([1209217506275131.2,\n",
       "  1.8674965723657146e+25,\n",
       "  1.0822262831167384e+31,\n",
       "  6.287984055434242e+36,\n",
       "  3.653451079237598e+42,\n",
       "  2.1227319806781012e+48,\n",
       "  1.2333519634009359e+54,\n",
       "  7.166034522827638e+59,\n",
       "  4.163616899814681e+65,\n",
       "  2.419149061199601e+71,\n",
       "  1.405576526640429e+77,\n",
       "  8.166695487804684e+82,\n",
       "  4.7450219839642454e+88,\n",
       "  2.7569576534261563e+94,\n",
       "  1.6018504294546879e+100,\n",
       "  9.307088177997265e+105,\n",
       "  5.407614141758846e+111,\n",
       "  3.141937644394674e+117,\n",
       "  1.825531907876387e+123,\n",
       "  1.0606724651649964e+129,\n",
       "  6.162730289759305e+134,\n",
       "  3.5806760212643815e+140,\n",
       "  2.0804481400983823e+146,\n",
       "  1.208784161966839e+152,\n",
       "  7.023290425075321e+157,\n",
       "  4.080679574316584e+163,\n",
       "  2.3709607292889352e+169,\n",
       "  1.37757809145595e+175,\n",
       "  8.004018685828489e+180,\n",
       "  4.650503337736928e+186,\n",
       "  2.7020403303898204e+192,\n",
       "  1.569942308783725e+198,\n",
       "  9.121695280372031e+203,\n",
       "  5.299896965795052e+209,\n",
       "  3.0793516977578745e+215,\n",
       "  1.7891681554722105e+221,\n",
       "  1.039544359576278e+227,\n",
       "  6.03997154891034e+232,\n",
       "  3.509350608810594e+238,\n",
       "  2.0390065740924116e+244,\n",
       "  1.1847057397896095e+250,\n",
       "  6.883389723817707e+255,\n",
       "  3.999394322034229e+261,\n",
       "  2.32373228669207e+267,\n",
       "  1.3501373721680602e+273,\n",
       "  7.84458233060836e+278,\n",
       "  4.557867459284941e+284,\n",
       "  2.6482169350624313e+290,\n",
       "  1.5386697831383844e+296,\n",
       "  8.939995323635778e+301,\n",
       "  inf,\n",
       "  inf],\n",
       " array([[5.61833023e+150, 8.27713405e+150, 1.32262661e+151, ...,\n",
       "         4.15625315e+150, 7.24326375e+150, 1.03510023e+151],\n",
       "        [9.42183515e+152, 1.38805996e+153, 2.21802019e+153, ...,\n",
       "         6.96995913e+152, 1.21468184e+153, 1.73584381e+153],\n",
       "        [1.11571143e+151, 1.64370777e+151, 2.62652703e+151, ...,\n",
       "         8.25366070e+150, 1.43839750e+151, 2.05554517e+151],\n",
       "        [2.82912885e+150, 4.16797835e+150, 6.66013022e+150, ...,\n",
       "         2.09289508e+150, 3.64736953e+150, 5.21228161e+150]]))"
      ]
     },
     "execution_count": 10,
     "metadata": {},
     "output_type": "execute_result"
    }
   ],
   "source": [
    "gradient_descent(X,Y,w,learning_rate,n_iter, delta)"
   ]
  },
  {
   "cell_type": "code",
   "execution_count": 11,
   "metadata": {},
   "outputs": [
    {
     "name": "stderr",
     "output_type": "stream",
     "text": [
      "/Users/romane/anaconda3/lib/python3.7/site-packages/ipykernel_launcher.py:3: RuntimeWarning: overflow encountered in square\n",
      "  This is separate from the ipykernel package so we can avoid doing imports until\n",
      "/Users/romane/anaconda3/lib/python3.7/site-packages/ipykernel_launcher.py:10: RuntimeWarning: invalid value encountered in double_scalars\n",
      "  # Remove the CWD from sys.path while we load stuff.\n"
     ]
    },
    {
     "data": {
      "image/png": "[encoded data removed]",
      "text/plain": [
       "<Figure size 432x288 with 1 Axes>"
      ]
     },
     "metadata": {
      "needs_background": "light"
     },
     "output_type": "display_data"
    }
   ],
   "source": [
    "J_history, params = gradient_descent(X,Y,w,learning_rate,n_iter, delta)\n",
    "plt.title('Cost Function J')\n",
    "plt.xlabel('No. of iterations')\n",
    "plt.ylabel('Cost')\n",
    "plt.plot(J_history)\n",
    "plt.show()"
   ]
  },
  {
   "cell_type": "code",
   "execution_count": null,
   "metadata": {},
   "outputs": [],
   "source": []
  }
 ],
 "metadata": {
  "kernelspec": {
   "display_name": "Python 3",
   "language": "python",
   "name": "python3"
  },
  "language_info": {
   "codemirror_mode": {
    "name": "ipython",
    "version": 3
   },
   "file_extension": ".py",
   "mimetype": "text/x-python",
   "name": "python",
   "nbconvert_exporter": "python",
   "pygments_lexer": "ipython3",
   "version": "3.7.1"
  }
 },
 "nbformat": 4,
 "nbformat_minor": 2
}
