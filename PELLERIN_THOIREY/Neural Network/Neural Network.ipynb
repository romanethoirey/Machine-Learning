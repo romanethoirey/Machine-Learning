{
 "cells": [
  {
   "cell_type": "markdown",
   "metadata": {},
   "source": [
    "# Neural Network"
   ]
  },
  {
   "cell_type": "code",
   "execution_count": 17,
   "metadata": {},
   "outputs": [],
   "source": [
    "import pandas as pd\n",
    "import numpy as np\n",
    "import matplotlib.pyplot as plt\n",
    "from sklearn.model_selection import train_test_split\n",
    "from sklearn.preprocessing import OneHotEncoder\n",
    "one_hot_encoder = OneHotEncoder(sparse=False)"
   ]
  },
  {
   "cell_type": "code",
   "execution_count": 18,
   "metadata": {},
   "outputs": [],
   "source": [
    "df_label = pd.read_csv(\"labels.txt\", header=None)\n",
    "df_features = pd.read_csv(\"features.txt\", header=None)"
   ]
  },
  {
   "cell_type": "code",
   "execution_count": 19,
   "metadata": {},
   "outputs": [],
   "source": [
    "df_label.replace(10, 0, inplace=True)"
   ]
  },
  {
   "cell_type": "code",
   "execution_count": 20,
   "metadata": {},
   "outputs": [],
   "source": [
    "X_train, X_test, y_train, y_test = train_test_split(df_features, df_label, test_size=0.2)"
   ]
  },
  {
   "cell_type": "markdown",
   "metadata": {},
   "source": [
    "## Scratch Part"
   ]
  },
  {
   "cell_type": "code",
   "execution_count": null,
   "metadata": {},
   "outputs": [],
   "source": [
    "def sigmoid(x, deriv=False):\n",
    "    if deriv:\n",
    "        return x*(1-x)\n",
    "    return 1/(1+np.exp(-x))"
   ]
  },
  {
   "cell_type": "code",
   "execution_count": null,
   "metadata": {},
   "outputs": [],
   "source": [
    "class NeuralNetwork:\n",
    "    def __init__(self, x , y):\n",
    "        self.inputs = x\n",
    "        self.weight1 = np.random.rand(self.inputs.shape[1], 4)\n",
    "        self.weight2 = np.random.rand(4, 10)\n",
    "        self.y = y\n",
    "        self.output = np.zeros(y.shape)\n",
    "        \n",
    "        self.bias1 = np.random.rand(self.inputs.shape[0], 1)\n",
    "        self.bias2 = np.random.rand(self.y.shape[0], 1)\n",
    "        \n",
    "        self.learning_rate = 0.7\n",
    "        \n",
    "        self.error_history = []\n",
    "        self.epoch_list = []\n",
    "        \n",
    "    \n",
    "    def feedforward(self):\n",
    "        self.layer1 = np.dot(self.inputs, self.weight1)\n",
    "        self.layer1 += self.bias1\n",
    "        self.layer1 = sigmoid(self.layer1)\n",
    "\n",
    "        self.output = np.dot(self.layer1, self.weight2)\n",
    "        self.output += self.bias2\n",
    "        self.output = sigmoid(self.output)\n",
    "    \n",
    "    def backprop(self):\n",
    "        output_errors = self.y-self.output\n",
    "        hidden_errors = np.dot(self.weight1.T, output_errors)\n",
    "        \n",
    "        gradients = sigmoid(self.output, True)\n",
    "        gradients = gradients*output_errors\n",
    "        gradients = gradients*self.lerning_rate\n",
    "        \n",
    "        weight2d = np.dot(gradients, self.layer1.T)\n",
    "        self.weight2 += weight2d\n",
    "        self.bias2 += gradients\n",
    "        \n",
    "        \n",
    "        layer1_gradients = sigmoid(self.layer1, True)\n",
    "        layer1_gradients *= hidden_errors\n",
    "        layer1_gradients *= self.learning_rate\n",
    "        \n",
    "        weight1d = np.dot(layer1_gradients, inputs.T)\n",
    "        self.weight1 += weight1d\n",
    "        self.bias1 += layer1_gradients\n",
    "        \n",
    "        MSE = (1/output_errors[0])*((output_errors**2).sum())\n",
    "        print(MSE)\n",
    "        self.error_history.append(MSE)\n",
    "    \n",
    "    def train(self, epochs=25000):\n",
    "        for epoch in range(epochs):\n",
    "            self.feedforward()\n",
    "            self.backprop()\n",
    "            \n",
    "            self.epoch_list.append(epoch)"
   ]
  },
  {
   "cell_type": "code",
   "execution_count": null,
   "metadata": {},
   "outputs": [],
   "source": [
    "NN = NeuralNetwork(df_features, df_label)\n",
    "NN.train()"
   ]
  },
  {
   "cell_type": "code",
   "execution_count": null,
   "metadata": {},
   "outputs": [],
   "source": [
    "plt.figure(figsize=(15,5))\n",
    "plt.plot(NN.epoch_list, NN.error_history)\n",
    "plt.xlabel('Epoch')\n",
    "plt.ylabel('Error')\n",
    "plt.show()"
   ]
  },
  {
   "cell_type": "markdown",
   "metadata": {},
   "source": [
    "## Scitkit learn"
   ]
  },
  {
   "cell_type": "code",
   "execution_count": 21,
   "metadata": {},
   "outputs": [],
   "source": [
    "from sklearn.neural_network import MLPClassifier\n",
    "from sklearn.metrics import accuracy_score"
   ]
  },
  {
   "cell_type": "code",
   "execution_count": 26,
   "metadata": {},
   "outputs": [],
   "source": [
    "mlp = MLPClassifier(hidden_layer_sizes=(1,), activation='logistic', alpha=1e-4,\n",
    "                    solver='sgd', tol=1e-4, random_state=1,\n",
    "                    learning_rate_init=.7, verbose=True)"
   ]
  },
  {
   "cell_type": "code",
   "execution_count": 27,
   "metadata": {},
   "outputs": [
    {
     "name": "stderr",
     "output_type": "stream",
     "text": [
      "/Users/tanguypellerin/anaconda3/lib/python3.7/site-packages/sklearn/neural_network/multilayer_perceptron.py:916: DataConversionWarning: A column-vector y was passed when a 1d array was expected. Please change the shape of y to (n_samples, ), for example using ravel().\n",
      "  y = column_or_1d(y, warn=True)\n"
     ]
    },
    {
     "name": "stdout",
     "output_type": "stream",
     "text": [
      "Iteration 1, loss = 2.22266056\n",
      "Iteration 2, loss = 1.96629876\n",
      "Iteration 3, loss = 1.86928407\n",
      "Iteration 4, loss = 1.82984974\n",
      "Iteration 5, loss = 1.81094091\n",
      "Iteration 6, loss = 1.81511245\n",
      "Iteration 7, loss = 1.79013784\n",
      "Iteration 8, loss = 1.79552835\n",
      "Iteration 9, loss = 1.80564491\n",
      "Iteration 10, loss = 1.77855892\n",
      "Iteration 11, loss = 1.77936557\n",
      "Iteration 12, loss = 1.76236696\n",
      "Iteration 13, loss = 1.77020421\n",
      "Iteration 14, loss = 1.80253592\n",
      "Iteration 15, loss = 1.74437550\n",
      "Iteration 16, loss = 1.76414024\n",
      "Iteration 17, loss = 1.75014886\n",
      "Iteration 18, loss = 1.73268709\n",
      "Iteration 19, loss = 1.73027499\n",
      "Iteration 20, loss = 1.83649465\n",
      "Iteration 21, loss = 1.75088579\n",
      "Iteration 22, loss = 1.71875841\n",
      "Iteration 23, loss = 1.72678808\n",
      "Iteration 24, loss = 1.71559166\n",
      "Iteration 25, loss = 1.73594825\n",
      "Iteration 26, loss = 1.72094847\n",
      "Iteration 27, loss = 1.71946318\n",
      "Iteration 28, loss = 1.71001190\n",
      "Iteration 29, loss = 1.73749291\n",
      "Iteration 30, loss = 1.72931225\n",
      "Iteration 31, loss = 1.71002415\n",
      "Iteration 32, loss = 1.75335654\n",
      "Iteration 33, loss = 1.69846917\n",
      "Iteration 34, loss = 1.73709333\n",
      "Iteration 35, loss = 1.71058863\n",
      "Iteration 36, loss = 1.69337487\n",
      "Iteration 37, loss = 1.74353397\n",
      "Iteration 38, loss = 1.70387126\n",
      "Iteration 39, loss = 1.69999770\n",
      "Iteration 40, loss = 1.73896507\n",
      "Iteration 41, loss = 1.68110612\n",
      "Iteration 42, loss = 1.81859466\n",
      "Iteration 43, loss = 1.76156654\n",
      "Iteration 44, loss = 1.72188805\n",
      "Iteration 45, loss = 1.69740424\n",
      "Iteration 46, loss = 1.67486072\n",
      "Iteration 47, loss = 1.68896530\n",
      "Iteration 48, loss = 1.67798839\n",
      "Iteration 49, loss = 1.68431821\n",
      "Iteration 50, loss = 1.68857119\n",
      "Iteration 51, loss = 1.66772113\n",
      "Iteration 52, loss = 1.83468248\n",
      "Iteration 53, loss = 1.71433499\n",
      "Iteration 54, loss = 1.67435523\n",
      "Iteration 55, loss = 1.66126164\n",
      "Iteration 56, loss = 1.67660893\n",
      "Iteration 57, loss = 1.69395989\n",
      "Iteration 58, loss = 1.71684985\n",
      "Iteration 59, loss = 1.67507789\n",
      "Iteration 60, loss = 1.69388019\n",
      "Iteration 61, loss = 1.67166896\n",
      "Iteration 62, loss = 1.74681399\n",
      "Iteration 63, loss = 1.72769877\n",
      "Iteration 64, loss = 1.68068782\n",
      "Iteration 65, loss = 1.65147848\n",
      "Iteration 66, loss = 1.69388634\n",
      "Iteration 67, loss = 1.67664037\n",
      "Iteration 68, loss = 1.66785514\n",
      "Iteration 69, loss = 1.72412863\n",
      "Iteration 70, loss = 1.71429241\n",
      "Iteration 71, loss = 1.66566545\n",
      "Iteration 72, loss = 1.66846372\n",
      "Iteration 73, loss = 1.68853455\n",
      "Iteration 74, loss = 1.68826206\n",
      "Iteration 75, loss = 1.67023468\n",
      "Iteration 76, loss = 1.69086288\n",
      "Training loss did not improve more than tol=0.000100 for 10 consecutive epochs. Stopping.\n"
     ]
    },
    {
     "data": {
      "text/plain": [
       "MLPClassifier(activation='logistic', alpha=0.0001, batch_size='auto',\n",
       "       beta_1=0.9, beta_2=0.999, early_stopping=False, epsilon=1e-08,\n",
       "       hidden_layer_sizes=(1,), learning_rate='constant',\n",
       "       learning_rate_init=0.7, max_iter=200, momentum=0.9,\n",
       "       n_iter_no_change=10, nesterovs_momentum=True, power_t=0.5,\n",
       "       random_state=1, shuffle=True, solver='sgd', tol=0.0001,\n",
       "       validation_fraction=0.1, verbose=True, warm_start=False)"
      ]
     },
     "execution_count": 27,
     "metadata": {},
     "output_type": "execute_result"
    }
   ],
   "source": [
    "mlp.fit(X_train,y_train)"
   ]
  },
  {
   "cell_type": "code",
   "execution_count": 28,
   "metadata": {},
   "outputs": [],
   "source": [
    "predictions = mlp.predict(X_test)"
   ]
  },
  {
   "cell_type": "code",
   "execution_count": 29,
   "metadata": {},
   "outputs": [
    {
     "data": {
      "text/plain": [
       "0.319"
      ]
     },
     "execution_count": 29,
     "metadata": {},
     "output_type": "execute_result"
    }
   ],
   "source": [
    "accuracy_score(y_test, predictions)"
   ]
  },
  {
   "cell_type": "code",
   "execution_count": null,
   "metadata": {},
   "outputs": [],
   "source": []
  }
 ],
 "metadata": {
  "kernelspec": {
   "display_name": "Python 3",
   "language": "python",
   "name": "python3"
  },
  "language_info": {
   "codemirror_mode": {
    "name": "ipython",
    "version": 3
   },
   "file_extension": ".py",
   "mimetype": "text/x-python",
   "name": "python",
   "nbconvert_exporter": "python",
   "pygments_lexer": "ipython3",
   "version": "3.7.3"
  }
 },
 "nbformat": 4,
 "nbformat_minor": 2
}
